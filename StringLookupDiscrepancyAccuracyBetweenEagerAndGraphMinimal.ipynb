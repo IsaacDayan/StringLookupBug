{
  "nbformat": 4,
  "nbformat_minor": 0,
  "metadata": {
    "colab": {
      "name": "StringLookupDiscrepancyAccuracyBetweenEagerAndGraphMinimal.ipynb",
      "provenance": [],
      "collapsed_sections": [],
      "toc_visible": true,
      "authorship_tag": "ABX9TyPe0OSd8Hsk0iF82KSuHVqb",
      "include_colab_link": true
    },
    "kernelspec": {
      "name": "python3",
      "display_name": "Python 3"
    },
    "accelerator": "GPU"
  },
  "cells": [
    {
      "cell_type": "markdown",
      "metadata": {
        "id": "view-in-github",
        "colab_type": "text"
      },
      "source": [
        "<a href=\"https://colab.research.google.com/github/IsaacDayan/StringLookupBug/blob/main/StringLookupDiscrepancyAccuracyBetweenEagerAndGraphMinimal.ipynb\" target=\"_parent\"><img src=\"https://colab.research.google.com/assets/colab-badge.svg\" alt=\"Open In Colab\"/></a>"
      ]
    },
    {
      "cell_type": "code",
      "metadata": {
        "id": "o0atFKO3uqNE"
      },
      "source": [
        "PATH = \"/content/\""
      ],
      "execution_count": null,
      "outputs": []
    },
    {
      "cell_type": "markdown",
      "metadata": {
        "id": "-wFQyN5qutp_"
      },
      "source": [
        "# New section"
      ]
    },
    {
      "cell_type": "code",
      "metadata": {
        "colab": {
          "base_uri": "https://localhost:8080/"
        },
        "id": "oCpYz1AIjkZq",
        "outputId": "006e41d9-80ca-45cb-eee2-11e8b2697858"
      },
      "source": [
        "import numpy as np\n",
        "import os\n",
        "import time\n",
        "import datetime\n",
        "import tensorflow as tf\n",
        "from tensorflow.python.framework.ops import disable_eager_execution, enable_eager_execution \n",
        "import random\n",
        "import json\n",
        "import collections\n",
        "\n",
        "def reset_seed():\n",
        "    try:\n",
        "      tf.random.set_seed(12345)\n",
        "      tf.compat.v1.random.set_random_seed(12345)\n",
        "    except:\n",
        "      try:\n",
        "        tf.compat.v1.random.set_random_seed(12345)\n",
        "      except:\n",
        "        pass\n",
        "    random.seed(12345)\n",
        "    np.random.seed(12345)\n",
        "    os.environ['PYTHONHASHSEED']=str(0)\n",
        "reset_seed()\n",
        "\n",
        "print(\"Tensorflow Version: \", tf.__version__)\n"
      ],
      "execution_count": null,
      "outputs": [
        {
          "output_type": "stream",
          "text": [
            "Tensorflow Version:  2.3.0\n"
          ],
          "name": "stdout"
        }
      ]
    },
    {
      "cell_type": "code",
      "metadata": {
        "colab": {
          "base_uri": "https://localhost:8080/"
        },
        "id": "AdPdRY3zk_nD",
        "outputId": "0af99353-9d21-4266-ab3e-0cddb146685a"
      },
      "source": [
        "print(tf.test.gpu_device_name())"
      ],
      "execution_count": null,
      "outputs": [
        {
          "output_type": "stream",
          "text": [
            "/device:GPU:0\n"
          ],
          "name": "stdout"
        }
      ]
    },
    {
      "cell_type": "code",
      "metadata": {
        "id": "2VE1GRJPso7Y"
      },
      "source": [
        "BATCH_SIZE = 32\n",
        "# load jsons:        \n",
        "\n",
        "user_idx= json.load(open(PATH + 'data/gist_user_idx.json', 'r'))\n",
        "\n",
        "        \n",
        "# sorted device index list:\n",
        "user_idx_order = np.argsort(list(user_idx.values()))\n",
        "user_idx = collections.OrderedDict(zip(np.array(list(user_idx.keys()))[user_idx_order], np.array(list(user_idx.values()))[user_idx_order]))\n",
        "\n",
        "user_idx_list = list(user_idx.keys())\n",
        "\n",
        "\n",
        "class PackNumericFeatures(object):\n",
        "    def __init__(self, user_idx):\n",
        "        self.user_lookup = tf.keras.layers.experimental.preprocessing.StringLookup(vocabulary=user_idx,\n",
        "                                                                                    mask_token=None,\n",
        "                                                                                    num_oov_indices=1\n",
        "                                                                                    )\n",
        "    def __call__(self, features, labels):\n",
        "        user = self.user_lookup(features['user'])\n",
        "        print(features['user'],user)\n",
        "        return user, labels\n",
        "\n",
        "\n",
        "def build_model(loss=tf.keras.losses.binary_crossentropy):\n",
        "    user_input = tf.keras.layers.Input(name='user_input', shape=(1,))\n",
        "    x = tf.keras.layers.Dense(1, activation='sigmoid')(user_input)\n",
        "    model = tf.keras.Model(inputs=user_input, outputs=x)\n",
        "    model.compile(\n",
        "        loss=loss,\n",
        "        optimizer='adam',\n",
        "        metrics=['accuracy'],\n",
        "    )\n",
        "    return model\n",
        "\n",
        "EPOCHS = 2\n",
        "STEPS_PER_EPOCH = 10"
      ],
      "execution_count": null,
      "outputs": []
    },
    {
      "cell_type": "code",
      "metadata": {
        "id": "Dc7wlg7BE_1V"
      },
      "source": [
        ""
      ],
      "execution_count": null,
      "outputs": []
    },
    {
      "cell_type": "code",
      "metadata": {
        "colab": {
          "base_uri": "https://localhost:8080/"
        },
        "id": "aiYt4piltGxb",
        "outputId": "fba71631-2791-41f8-d924-30097efe20fb"
      },
      "source": [
        "# eager\n",
        "with tf.device('/device:GPU:0'):\n",
        "  for i in range(3):\n",
        "    reset_seed()\n",
        "    print(\"tf.executing_eagerly()\",tf.executing_eagerly())\n",
        "    pack_obj = PackNumericFeatures(user_idx_list)\n",
        "    raw_data = tf.data.experimental.make_csv_dataset(\n",
        "              PATH+\"data/gist_learning_set_11.csv\",\n",
        "              column_names=['user', 'item', 'bought'],\n",
        "              select_columns=['user', 'bought'],\n",
        "              column_defaults=[tf.string, tf.int32],\n",
        "              batch_size=BATCH_SIZE,\n",
        "              label_name='bought',\n",
        "              na_value=\"?\",\n",
        "              num_epochs=1,\n",
        "              ignore_errors=True,\n",
        "              shuffle_seed=12345,\n",
        "              shuffle = False,\n",
        "          )\n",
        "\n",
        "    # train_data = raw_data.map(pack_obj).shuffle(buffer_size=10000).repeat()\n",
        "    train_data = raw_data.map(pack_obj)\n",
        "    model = build_model()\n",
        "    r = model.fit(train_data,\n",
        "                epochs=EPOCHS,\n",
        "                steps_per_epoch=STEPS_PER_EPOCH,\n",
        "                )\n",
        "    # print(\"tf.executing_eagerly()\",tf.executing_eagerly()"
      ],
      "execution_count": null,
      "outputs": [
        {
          "output_type": "stream",
          "text": [
            "tf.executing_eagerly() True\n",
            "Tensor(\"args_0:0\", shape=(None,), dtype=string) Tensor(\"string_lookup/None_lookup_table_find/LookupTableFindV2:0\", shape=(None,), dtype=int64, device=/job:localhost/replica:0/task:0/device:CPU:0)\n",
            "Epoch 1/2\n",
            "10/10 [==============================] - 0s 2ms/step - loss: 47599.8125 - accuracy: 0.5094\n",
            "Epoch 2/2\n",
            "10/10 [==============================] - 0s 2ms/step - loss: 0.0000e+00 - accuracy: 1.0000\n",
            "tf.executing_eagerly() True\n",
            "Tensor(\"args_0:0\", shape=(None,), dtype=string) Tensor(\"string_lookup_1/None_lookup_table_find/LookupTableFindV2:0\", shape=(None,), dtype=int64, device=/job:localhost/replica:0/task:0/device:CPU:0)\n",
            "Epoch 1/2\n",
            "10/10 [==============================] - 0s 2ms/step - loss: 47599.8125 - accuracy: 0.5094\n",
            "Epoch 2/2\n",
            "10/10 [==============================] - 0s 2ms/step - loss: 0.0000e+00 - accuracy: 1.0000\n",
            "tf.executing_eagerly() True\n",
            "Tensor(\"args_0:0\", shape=(None,), dtype=string) Tensor(\"string_lookup_2/None_lookup_table_find/LookupTableFindV2:0\", shape=(None,), dtype=int64, device=/job:localhost/replica:0/task:0/device:CPU:0)\n",
            "Epoch 1/2\n",
            "10/10 [==============================] - 0s 2ms/step - loss: 47599.8125 - accuracy: 0.5094\n",
            "Epoch 2/2\n",
            "10/10 [==============================] - 0s 2ms/step - loss: 0.0000e+00 - accuracy: 1.0000\n"
          ],
          "name": "stdout"
        }
      ]
    },
    {
      "cell_type": "code",
      "metadata": {
        "colab": {
          "base_uri": "https://localhost:8080/"
        },
        "id": "4ZKBtOMJx6T_",
        "outputId": "28037d8c-f299-4711-f6d9-26d8b61cffed"
      },
      "source": [
        "# eager disable\n",
        "print(\"tf.executing_eagerly()\",tf.executing_eagerly())\n",
        "reset_seed()\n",
        "with tf.device('/device:GPU:0'):\n",
        "  disable_eager_execution()\n",
        "  print(\"tf.executing_eagerly()\",tf.executing_eagerly())\n",
        "  for i in range(3):\n",
        "    pack_obj = PackNumericFeatures(user_idx_list)\n",
        "    raw_data2 = tf.data.experimental.make_csv_dataset(\n",
        "              PATH+\"data/gist_learning_set_11.csv\",\n",
        "              column_names=['user', 'item', 'bought'],\n",
        "              select_columns=['user', 'bought'],\n",
        "              column_defaults=[tf.string, tf.int32],\n",
        "              batch_size=BATCH_SIZE,\n",
        "              label_name='bought',\n",
        "              na_value=\"?\",\n",
        "              num_epochs=1,\n",
        "              ignore_errors=True,\n",
        "              shuffle_seed=12345,\n",
        "              shuffle = False,\n",
        "          )\n",
        "\n",
        "    train_data2 = raw_data2.map(pack_obj).shuffle(buffer_size=10000).repeat()\n",
        "    model2 = build_model()\n",
        "    r = model2.fit(train_data2,\n",
        "                epochs=EPOCHS,\n",
        "                steps_per_epoch=STEPS_PER_EPOCH,\n",
        "                # callbacks=callbacks\n",
        "                )\n",
        "    print(\"tf.executing_eagerly()\",tf.executing_eagerly())"
      ],
      "execution_count": null,
      "outputs": [
        {
          "output_type": "stream",
          "text": [
            "tf.executing_eagerly() True\n",
            "tf.executing_eagerly() False\n",
            "Tensor(\"args_0:0\", shape=(None,), dtype=string) Tensor(\"string_lookup_3/string_lookup_3_index_table_lookup_table_find/LookupTableFindV2:0\", shape=(None,), dtype=int64)\n",
            "Train on 10 steps\n",
            "Epoch 1/2\n",
            "10/10 [==============================] - 0s 2ms/step - batch: 4.5000 - size: 1.0000 - loss: 0.6929 - accuracy: 0.6219\n",
            "Epoch 2/2\n",
            "10/10 [==============================] - 0s 2ms/step - batch: 4.5000 - size: 1.0000 - loss: 0.6925 - accuracy: 0.6406    \n",
            "tf.executing_eagerly() False\n",
            "Tensor(\"args_0:0\", shape=(None,), dtype=string) Tensor(\"string_lookup_4/string_lookup_4_index_table_lookup_table_find/LookupTableFindV2:0\", shape=(None,), dtype=int64)\n",
            "Train on 10 steps\n",
            "Epoch 1/2\n",
            "10/10 [==============================] - 0s 2ms/step - batch: 4.5000 - size: 1.0000 - loss: 0.6934 - accuracy: 0.3562\n",
            "Epoch 2/2\n",
            "10/10 [==============================] - 0s 2ms/step - batch: 4.5000 - size: 1.0000 - loss: 0.6930 - accuracy: 0.8000\n",
            "tf.executing_eagerly() False\n",
            "Tensor(\"args_0:0\", shape=(None,), dtype=string) Tensor(\"string_lookup_5/string_lookup_5_index_table_lookup_table_find/LookupTableFindV2:0\", shape=(None,), dtype=int64)\n",
            "Train on 10 steps\n",
            "Epoch 1/2\n",
            "10/10 [==============================] - 0s 2ms/step - batch: 4.5000 - size: 1.0000 - loss: 0.6926 - accuracy: 0.6594    \n",
            "Epoch 2/2\n",
            "10/10 [==============================] - 0s 2ms/step - batch: 4.5000 - size: 1.0000 - loss: 0.6942 - accuracy: 0.4031\n",
            "tf.executing_eagerly() False\n"
          ],
          "name": "stdout"
        }
      ]
    },
    {
      "cell_type": "markdown",
      "metadata": {
        "id": "MJmPCtB7nyqn"
      },
      "source": [
        "## older executions\n",
        "also give different results on each run"
      ]
    },
    {
      "cell_type": "code",
      "metadata": {
        "id": "mgYGZ-Vjf7xF"
      },
      "source": [
        "# tf.executing_eagerly() True\n",
        "# tf.executing_eagerly() False\n",
        "# Tensor(\"args_0:0\", shape=(None,), dtype=string) Tensor(\"string_lookup_1/string_lookup_1_index_table_lookup_table_find/LookupTableFindV2:0\", shape=(None,), dtype=int64)\n",
        "# Train on 10 steps\n",
        "# Epoch 1/2\n",
        "# 10/10 [==============================] - 0s 3ms/step - batch: 4.5000 - size: 1.0000 - loss: 0.6940 - accuracy: 0.5000    \n",
        "# Epoch 2/2\n",
        "# 10/10 [==============================] - 0s 2ms/step - batch: 4.5000 - size: 1.0000 - loss: 0.6935 - accuracy: 0.5000\n",
        "# tf.executing_eagerly() False"
      ],
      "execution_count": null,
      "outputs": []
    },
    {
      "cell_type": "markdown",
      "metadata": {
        "id": "W0LnWOe_BIRC"
      },
      "source": [
        "tf.executing_eagerly() True\n",
        "\n",
        "tf.executing_eagerly() False\n",
        "\n",
        "Tensor(\"args_0:0\", shape=(None,), dtype=string) Tensor(\"string_lookup_1/string_lookup_1_index_table_lookup_table_find/LookupTableFindV2:0\", shape=(None,), dtype=int64)\n",
        "\n",
        "Train on 10 steps\n",
        "\n",
        "Epoch 1/2\n",
        "10/10 [==============================] - 0s 2ms/step - batch: 4.5000 - size: 1.0000 - loss: 0.6933 - accuracy: 0.6000\n",
        "\n",
        "Epoch 2/2\n",
        "10/10 [==============================] - 0s 2ms/step - batch: 4.5000 - size: 1.0000 - loss: 0.6990 - accuracy: 0.1000    \n",
        "\n",
        "tf.executing_eagerly() False"
      ]
    },
    {
      "cell_type": "code",
      "metadata": {
        "colab": {
          "base_uri": "https://localhost:8080/"
        },
        "id": "YPRrJzrbY7pr",
        "outputId": "190270d7-e987-4f53-ca59-d08dc17c9c22"
      },
      "source": [
        "model = build_model()\n",
        "model.summary()"
      ],
      "execution_count": null,
      "outputs": [
        {
          "output_type": "stream",
          "text": [
            "Model: \"functional_13\"\n",
            "_________________________________________________________________\n",
            "Layer (type)                 Output Shape              Param #   \n",
            "=================================================================\n",
            "user_input (InputLayer)      [(None, 1)]               0         \n",
            "_________________________________________________________________\n",
            "dense_6 (Dense)              (None, 1)                 2         \n",
            "=================================================================\n",
            "Total params: 2\n",
            "Trainable params: 2\n",
            "Non-trainable params: 0\n",
            "_________________________________________________________________\n"
          ],
          "name": "stdout"
        }
      ]
    },
    {
      "cell_type": "code",
      "metadata": {
        "colab": {
          "base_uri": "https://localhost:8080/",
          "height": 174
        },
        "id": "ejRrHqJaa_V1",
        "outputId": "faf6b744-f74d-44bd-a8a0-17ab96f5d0a7"
      },
      "source": [
        "tf.keras.utils.plot_model(\n",
        "    model,\n",
        "    to_file=\"model.png\",\n",
        "    show_shapes=False,\n",
        "    show_layer_names=True,\n",
        "    rankdir=\"TB\",\n",
        "    expand_nested=False,\n",
        "    dpi=96,\n",
        ")\n"
      ],
      "execution_count": null,
      "outputs": [
        {
          "output_type": "execute_result",
          "data": {
            "image/png": "[encoded data removed]",
            "text/plain": [
              "<IPython.core.display.Image object>"
            ]
          },
          "metadata": {
            "tags": []
          },
          "execution_count": 14
        }
      ]
    }
  ]
}