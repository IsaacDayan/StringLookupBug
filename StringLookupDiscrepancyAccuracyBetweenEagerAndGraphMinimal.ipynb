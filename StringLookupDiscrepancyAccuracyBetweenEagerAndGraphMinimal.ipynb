{
  "nbformat": 4,
  "nbformat_minor": 0,
  "metadata": {
    "colab": {
      "name": "StringLookupDiscrepancyAccuracyBetweenEagerAndGraphMinimal.ipynb",
      "provenance": [],
      "collapsed_sections": [],
      "authorship_tag": "ABX9TyNIVRG79ahXIPsJnNx/siy+",
      "include_colab_link": true
    },
    "kernelspec": {
      "name": "python3",
      "display_name": "Python 3"
    },
    "accelerator": "GPU"
  },
  "cells": [
    {
      "cell_type": "markdown",
      "metadata": {
        "id": "view-in-github",
        "colab_type": "text"
      },
      "source": [
        "<a href=\"https://colab.research.google.com/github/IsaacDayan/StringLookupBug/blob/main/StringLookupDiscrepancyAccuracyBetweenEagerAndGraphMinimal.ipynb\" target=\"_parent\"><img src=\"https://colab.research.google.com/assets/colab-badge.svg\" alt=\"Open In Colab\"/></a>"
      ]
    },
    {
      "cell_type": "code",
      "metadata": {
        "id": "o0atFKO3uqNE"
      },
      "source": [
        "PATH = \"/content/\""
      ],
      "execution_count": 6,
      "outputs": []
    },
    {
      "cell_type": "code",
      "metadata": {
        "id": "WEn_OjPtLJcx"
      },
      "source": [
        "! mkdir -p /content/data/"
      ],
      "execution_count": 11,
      "outputs": []
    },
    {
      "cell_type": "code",
      "metadata": {
        "id": "jFgt_6_QLaQY",
        "outputId": "334946d4-81ff-4fe7-b71d-ac46a9f874ed",
        "colab": {
          "base_uri": "https://localhost:8080/"
        }
      },
      "source": [
        "! wget -O /content/data/gist_user_idx.json  https://github.com/IsaacDayan/StringLookupBug/blob/main/gist_user_idx.json?raw=true"
      ],
      "execution_count": 12,
      "outputs": [
        {
          "output_type": "stream",
          "text": [
            "--2020-12-15 11:36:14--  https://github.com/IsaacDayan/StringLookupBug/blob/main/gist_user_idx.json?raw=true\n",
            "Resolving github.com (github.com)... 140.82.121.4\n",
            "Connecting to github.com (github.com)|140.82.121.4|:443... connected.\n",
            "HTTP request sent, awaiting response... 302 Found\n",
            "Location: https://github.com/IsaacDayan/StringLookupBug/raw/main/gist_user_idx.json [following]\n",
            "--2020-12-15 11:36:14--  https://github.com/IsaacDayan/StringLookupBug/raw/main/gist_user_idx.json\n",
            "Reusing existing connection to github.com:443.\n",
            "HTTP request sent, awaiting response... 302 Found\n",
            "Location: https://raw.githubusercontent.com/IsaacDayan/StringLookupBug/main/gist_user_idx.json [following]\n",
            "--2020-12-15 11:36:14--  https://raw.githubusercontent.com/IsaacDayan/StringLookupBug/main/gist_user_idx.json\n",
            "Resolving raw.githubusercontent.com (raw.githubusercontent.com)... 151.101.0.133, 151.101.64.133, 151.101.128.133, ...\n",
            "Connecting to raw.githubusercontent.com (raw.githubusercontent.com)|151.101.0.133|:443... connected.\n",
            "HTTP request sent, awaiting response... 200 OK\n",
            "Length: 2017014 (1.9M) [text/plain]\n",
            "Saving to: ‘/content/data/gist_user_idx.json’\n",
            "\n",
            "/content/data/gist_ 100%[===================>]   1.92M  --.-KB/s    in 0.05s   \n",
            "\n",
            "2020-12-15 11:36:15 (41.4 MB/s) - ‘/content/data/gist_user_idx.json’ saved [2017014/2017014]\n",
            "\n"
          ],
          "name": "stdout"
        }
      ]
    },
    {
      "cell_type": "code",
      "metadata": {
        "id": "y_NtEdToLacQ",
        "outputId": "cd180927-5b70-457b-ee76-3fe386b92687",
        "colab": {
          "base_uri": "https://localhost:8080/"
        }
      },
      "source": [
        "! wget -O /content/data/gist_learning_set_11.csv  https://github.com/IsaacDayan/StringLookupBug/blob/main/gist_learning_set_11.csv?raw=true"
      ],
      "execution_count": 13,
      "outputs": [
        {
          "output_type": "stream",
          "text": [
            "--2020-12-15 11:36:19--  https://github.com/IsaacDayan/StringLookupBug/blob/main/gist_learning_set_11.csv?raw=true\n",
            "Resolving github.com (github.com)... 140.82.121.3\n",
            "Connecting to github.com (github.com)|140.82.121.3|:443... connected.\n",
            "HTTP request sent, awaiting response... 302 Found\n",
            "Location: https://github.com/IsaacDayan/StringLookupBug/raw/main/gist_learning_set_11.csv [following]\n",
            "--2020-12-15 11:36:19--  https://github.com/IsaacDayan/StringLookupBug/raw/main/gist_learning_set_11.csv\n",
            "Reusing existing connection to github.com:443.\n",
            "HTTP request sent, awaiting response... 302 Found\n",
            "Location: https://raw.githubusercontent.com/IsaacDayan/StringLookupBug/main/gist_learning_set_11.csv [following]\n",
            "--2020-12-15 11:36:19--  https://raw.githubusercontent.com/IsaacDayan/StringLookupBug/main/gist_learning_set_11.csv\n",
            "Resolving raw.githubusercontent.com (raw.githubusercontent.com)... 151.101.0.133, 151.101.64.133, 151.101.128.133, ...\n",
            "Connecting to raw.githubusercontent.com (raw.githubusercontent.com)|151.101.0.133|:443... connected.\n",
            "HTTP request sent, awaiting response... 200 OK\n",
            "Length: 14305789 (14M) [text/plain]\n",
            "Saving to: ‘/content/data/gist_learning_set_11.csv’\n",
            "\n",
            "/content/data/gist_ 100%[===================>]  13.64M  79.5MB/s    in 0.2s    \n",
            "\n",
            "2020-12-15 11:36:25 (79.5 MB/s) - ‘/content/data/gist_learning_set_11.csv’ saved [14305789/14305789]\n",
            "\n"
          ],
          "name": "stdout"
        }
      ]
    },
    {
      "cell_type": "markdown",
      "metadata": {
        "id": "-wFQyN5qutp_"
      },
      "source": [
        "# New section"
      ]
    },
    {
      "cell_type": "code",
      "metadata": {
        "colab": {
          "base_uri": "https://localhost:8080/"
        },
        "id": "oCpYz1AIjkZq",
        "outputId": "5e07b8a2-3732-481f-be58-b3c6f586e059"
      },
      "source": [
        "import numpy as np\n",
        "import os\n",
        "import time\n",
        "import datetime\n",
        "import tensorflow as tf\n",
        "from tensorflow.python.framework.ops import disable_eager_execution, enable_eager_execution \n",
        "import random\n",
        "import json\n",
        "import collections\n",
        "\n",
        "def reset_seed():\n",
        "    try:\n",
        "      tf.random.set_seed(12345)\n",
        "      tf.compat.v1.random.set_random_seed(12345)\n",
        "    except:\n",
        "      try:\n",
        "        tf.compat.v1.random.set_random_seed(12345)\n",
        "      except:\n",
        "        pass\n",
        "    random.seed(12345)\n",
        "    np.random.seed(12345)\n",
        "    os.environ['PYTHONHASHSEED']=str(0)\n",
        "reset_seed()\n",
        "\n",
        "print(\"Tensorflow Version: \", tf.__version__)\n"
      ],
      "execution_count": 2,
      "outputs": [
        {
          "output_type": "stream",
          "text": [
            "Tensorflow Version:  2.3.0\n"
          ],
          "name": "stdout"
        }
      ]
    },
    {
      "cell_type": "code",
      "metadata": {
        "colab": {
          "base_uri": "https://localhost:8080/"
        },
        "id": "AdPdRY3zk_nD",
        "outputId": "75499a20-7511-42c4-d991-dec897c88323"
      },
      "source": [
        "print(tf.test.gpu_device_name())"
      ],
      "execution_count": 3,
      "outputs": [
        {
          "output_type": "stream",
          "text": [
            "/device:GPU:0\n"
          ],
          "name": "stdout"
        }
      ]
    },
    {
      "cell_type": "code",
      "metadata": {
        "id": "2VE1GRJPso7Y",
        "outputId": "2e2137cf-8fd0-478c-d96e-c6d43035caa2",
        "colab": {
          "base_uri": "https://localhost:8080/",
          "height": 234
        }
      },
      "source": [
        "BATCH_SIZE = 32\n",
        "# load jsons:        \n",
        "\n",
        "user_idx= json.load(open(PATH + 'data/gist_user_idx.json', 'r'))\n",
        "\n",
        "        \n",
        "# sorted device index list:\n",
        "user_idx_order = np.argsort(list(user_idx.values()))\n",
        "user_idx = collections.OrderedDict(zip(np.array(list(user_idx.keys()))[user_idx_order], np.array(list(user_idx.values()))[user_idx_order]))\n",
        "\n",
        "user_idx_list = list(user_idx.keys())\n",
        "\n",
        "\n",
        "class PackNumericFeatures(object):\n",
        "    def __init__(self, user_idx):\n",
        "        self.user_lookup = tf.keras.layers.experimental.preprocessing.StringLookup(vocabulary=user_idx,\n",
        "                                                                                    mask_token=None,\n",
        "                                                                                    num_oov_indices=1\n",
        "                                                                                    )\n",
        "    def __call__(self, features, labels):\n",
        "        user = self.user_lookup(features['user'])\n",
        "        print(features['user'],user)\n",
        "        return user, labels\n",
        "\n",
        "\n",
        "def build_model(loss=tf.keras.losses.binary_crossentropy):\n",
        "    user_input = tf.keras.layers.Input(name='user_input', shape=(1,))\n",
        "    x = tf.keras.layers.Dense(1, activation='sigmoid')(user_input)\n",
        "    model = tf.keras.Model(inputs=user_input, outputs=x)\n",
        "    model.compile(\n",
        "        loss=loss,\n",
        "        optimizer='adam',\n",
        "        metrics=['accuracy'],\n",
        "    )\n",
        "    return model\n",
        "\n",
        "EPOCHS = 2\n",
        "STEPS_PER_EPOCH = 10"
      ],
      "execution_count": 4,
      "outputs": [
        {
          "output_type": "error",
          "ename": "FileNotFoundError",
          "evalue": "ignored",
          "traceback": [
            "\u001b[0;31m---------------------------------------------------------------------------\u001b[0m",
            "\u001b[0;31mFileNotFoundError\u001b[0m                         Traceback (most recent call last)",
            "\u001b[0;32m<ipython-input-4-4355e7f27e9c>\u001b[0m in \u001b[0;36m<module>\u001b[0;34m()\u001b[0m\n\u001b[1;32m      2\u001b[0m \u001b[0;31m# load jsons:\u001b[0m\u001b[0;34m\u001b[0m\u001b[0;34m\u001b[0m\u001b[0;34m\u001b[0m\u001b[0m\n\u001b[1;32m      3\u001b[0m \u001b[0;34m\u001b[0m\u001b[0m\n\u001b[0;32m----> 4\u001b[0;31m \u001b[0muser_idx\u001b[0m\u001b[0;34m=\u001b[0m \u001b[0mjson\u001b[0m\u001b[0;34m.\u001b[0m\u001b[0mload\u001b[0m\u001b[0;34m(\u001b[0m\u001b[0mopen\u001b[0m\u001b[0;34m(\u001b[0m\u001b[0mPATH\u001b[0m \u001b[0;34m+\u001b[0m \u001b[0;34m'data/gist_user_idx.json'\u001b[0m\u001b[0;34m,\u001b[0m \u001b[0;34m'r'\u001b[0m\u001b[0;34m)\u001b[0m\u001b[0;34m)\u001b[0m\u001b[0;34m\u001b[0m\u001b[0;34m\u001b[0m\u001b[0m\n\u001b[0m\u001b[1;32m      5\u001b[0m \u001b[0;34m\u001b[0m\u001b[0m\n\u001b[1;32m      6\u001b[0m \u001b[0;34m\u001b[0m\u001b[0m\n",
            "\u001b[0;31mFileNotFoundError\u001b[0m: [Errno 2] No such file or directory: '/content/data/gist_user_idx.json'"
          ]
        }
      ]
    },
    {
      "cell_type": "code",
      "metadata": {
        "id": "zvXBvBEaLIT7"
      },
      "source": [
        ""
      ],
      "execution_count": null,
      "outputs": []
    },
    {
      "cell_type": "code",
      "metadata": {
        "id": "Dc7wlg7BE_1V"
      },
      "source": [
        ""
      ],
      "execution_count": null,
      "outputs": []
    },
    {
      "cell_type": "code",
      "metadata": {
        "id": "aiYt4piltGxb"
      },
      "source": [
        "# eager\n",
        "with tf.device('/device:GPU:0'):\n",
        "  for i in range(3):\n",
        "    reset_seed()\n",
        "    print(\"tf.executing_eagerly()\",tf.executing_eagerly())\n",
        "    pack_obj = PackNumericFeatures(user_idx_list)\n",
        "    raw_data = tf.data.experimental.make_csv_dataset(\n",
        "              PATH+\"data/gist_learning_set_11.csv\",\n",
        "              column_names=['user', 'item', 'bought'],\n",
        "              select_columns=['user', 'bought'],\n",
        "              column_defaults=[tf.string, tf.int32],\n",
        "              batch_size=BATCH_SIZE,\n",
        "              label_name='bought',\n",
        "              na_value=\"?\",\n",
        "              num_epochs=1,\n",
        "              ignore_errors=True,\n",
        "              shuffle_seed=12345,\n",
        "              shuffle = False,\n",
        "          )\n",
        "\n",
        "    # train_data = raw_data.map(pack_obj).shuffle(buffer_size=10000).repeat()\n",
        "    train_data = raw_data.map(pack_obj)\n",
        "    model = build_model()\n",
        "    r = model.fit(train_data,\n",
        "                epochs=EPOCHS,\n",
        "                steps_per_epoch=STEPS_PER_EPOCH,\n",
        "                )\n",
        "    # print(\"tf.executing_eagerly()\",tf.executing_eagerly()"
      ],
      "execution_count": null,
      "outputs": []
    },
    {
      "cell_type": "code",
      "metadata": {
        "id": "4ZKBtOMJx6T_"
      },
      "source": [
        "# eager disable\n",
        "print(\"tf.executing_eagerly()\",tf.executing_eagerly())\n",
        "reset_seed()\n",
        "with tf.device('/device:GPU:0'):\n",
        "  disable_eager_execution()\n",
        "  print(\"tf.executing_eagerly()\",tf.executing_eagerly())\n",
        "  for i in range(3):\n",
        "    pack_obj = PackNumericFeatures(user_idx_list)\n",
        "    raw_data2 = tf.data.experimental.make_csv_dataset(\n",
        "              PATH+\"data/gist_learning_set_11.csv\",\n",
        "              column_names=['user', 'item', 'bought'],\n",
        "              select_columns=['user', 'bought'],\n",
        "              column_defaults=[tf.string, tf.int32],\n",
        "              batch_size=BATCH_SIZE,\n",
        "              label_name='bought',\n",
        "              na_value=\"?\",\n",
        "              num_epochs=1,\n",
        "              ignore_errors=True,\n",
        "              shuffle_seed=12345,\n",
        "              shuffle = False,\n",
        "          )\n",
        "\n",
        "    train_data2 = raw_data2.map(pack_obj).shuffle(buffer_size=10000).repeat()\n",
        "    model2 = build_model()\n",
        "    r = model2.fit(train_data2,\n",
        "                epochs=EPOCHS,\n",
        "                steps_per_epoch=STEPS_PER_EPOCH,\n",
        "                # callbacks=callbacks\n",
        "                )\n",
        "    print(\"tf.executing_eagerly()\",tf.executing_eagerly())"
      ],
      "execution_count": null,
      "outputs": []
    },
    {
      "cell_type": "markdown",
      "metadata": {
        "id": "MJmPCtB7nyqn"
      },
      "source": [
        "## older executions\n",
        "also give different results on each run"
      ]
    },
    {
      "cell_type": "code",
      "metadata": {
        "id": "mgYGZ-Vjf7xF"
      },
      "source": [
        "# tf.executing_eagerly() True\n",
        "# tf.executing_eagerly() False\n",
        "# Tensor(\"args_0:0\", shape=(None,), dtype=string) Tensor(\"string_lookup_1/string_lookup_1_index_table_lookup_table_find/LookupTableFindV2:0\", shape=(None,), dtype=int64)\n",
        "# Train on 10 steps\n",
        "# Epoch 1/2\n",
        "# 10/10 [==============================] - 0s 3ms/step - batch: 4.5000 - size: 1.0000 - loss: 0.6940 - accuracy: 0.5000    \n",
        "# Epoch 2/2\n",
        "# 10/10 [==============================] - 0s 2ms/step - batch: 4.5000 - size: 1.0000 - loss: 0.6935 - accuracy: 0.5000\n",
        "# tf.executing_eagerly() False"
      ],
      "execution_count": null,
      "outputs": []
    },
    {
      "cell_type": "markdown",
      "metadata": {
        "id": "W0LnWOe_BIRC"
      },
      "source": [
        "tf.executing_eagerly() True\n",
        "\n",
        "tf.executing_eagerly() False\n",
        "\n",
        "Tensor(\"args_0:0\", shape=(None,), dtype=string) Tensor(\"string_lookup_1/string_lookup_1_index_table_lookup_table_find/LookupTableFindV2:0\", shape=(None,), dtype=int64)\n",
        "\n",
        "Train on 10 steps\n",
        "\n",
        "Epoch 1/2\n",
        "10/10 [==============================] - 0s 2ms/step - batch: 4.5000 - size: 1.0000 - loss: 0.6933 - accuracy: 0.6000\n",
        "\n",
        "Epoch 2/2\n",
        "10/10 [==============================] - 0s 2ms/step - batch: 4.5000 - size: 1.0000 - loss: 0.6990 - accuracy: 0.1000    \n",
        "\n",
        "tf.executing_eagerly() False"
      ]
    },
    {
      "cell_type": "code",
      "metadata": {
        "id": "YPRrJzrbY7pr"
      },
      "source": [
        "model = build_model()\n",
        "model.summary()"
      ],
      "execution_count": null,
      "outputs": []
    },
    {
      "cell_type": "code",
      "metadata": {
        "id": "ejRrHqJaa_V1"
      },
      "source": [
        "tf.keras.utils.plot_model(\n",
        "    model,\n",
        "    to_file=\"model.png\",\n",
        "    show_shapes=False,\n",
        "    show_layer_names=True,\n",
        "    rankdir=\"TB\",\n",
        "    expand_nested=False,\n",
        "    dpi=96,\n",
        ")\n"
      ],
      "execution_count": null,
      "outputs": []
    }
  ]
}